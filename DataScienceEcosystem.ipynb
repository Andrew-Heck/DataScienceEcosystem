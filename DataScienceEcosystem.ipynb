{
 "cells": [
  {
   "cell_type": "markdown",
   "id": "40abbb4b-d524-4999-9baa-f88b972e58cb",
   "metadata": {},
   "source": [
    "# Data Science Tools and Ecosystem"
   ]
  },
  {
   "cell_type": "markdown",
   "id": "796f4331-5e69-4ba0-8112-460f91438fb9",
   "metadata": {},
   "source": [
    "In this notebook, Data Science Tools and Ecosystem are summarized."
   ]
  },
  {
   "cell_type": "markdown",
   "id": "d7969a35-d781-49af-ad44-2d88cbcb196d",
   "metadata": {},
   "source": [
    "**Objectives:**\n",
    "- List popular languages in data science\n",
    "- List commonly used libraries in data science\n",
    "- Show examples of arithmetic expressions"
   ]
  },
  {
   "cell_type": "markdown",
   "id": "a3dc5c37-f364-4250-810a-013ac31f07f9",
   "metadata": {},
   "source": [
    "Some of the popular languages Data Scientists use are:\n",
    "1. Python\n",
    "2. R\n",
    "3. SQL"
   ]
  },
  {
   "cell_type": "markdown",
   "id": "62d709fc-aaca-4c52-a6ba-eb3bd292b861",
   "metadata": {},
   "source": [
    "Some of the commonly used libraries used by Data Scientists include: \n",
    "1. Pandas\n",
    "2. NumPy\n",
    "3. Scikit-learn\n"
   ]
  },
  {
   "cell_type": "markdown",
   "id": "f6e88a1a-b23c-4cff-9734-34aa586e43d9",
   "metadata": {},
   "source": [
    "|Data Science Tools|\n",
    "|------------------|\n",
    "|Visual Studio Code|\n",
    "|Eclipse|\n",
    "|Git|"
   ]
  },
  {
   "cell_type": "markdown",
   "id": "c15bf5b4-9b61-4d1a-9495-5072b3750950",
   "metadata": {},
   "source": [
    "### Below are a few examples of evaluating arithmetic expressions in Python"
   ]
  },
  {
   "cell_type": "code",
   "execution_count": 20,
   "id": "35cbfac7-be2a-4d96-8b7e-f1bbe903eb63",
   "metadata": {},
   "outputs": [
    {
     "data": {
      "text/plain": [
       "17"
      ]
     },
     "execution_count": 20,
     "metadata": {},
     "output_type": "execute_result"
    }
   ],
   "source": [
    "# This is a simple arithmetic expression to multiply then add integers.\n",
    "(3*4)+5"
   ]
  },
  {
   "cell_type": "code",
   "execution_count": 22,
   "id": "cf5c4033-c2b3-4256-9c37-e825a65b0168",
   "metadata": {},
   "outputs": [
    {
     "data": {
      "text/plain": [
       "3.3333333333333335"
      ]
     },
     "execution_count": 22,
     "metadata": {},
     "output_type": "execute_result"
    }
   ],
   "source": [
    "# This will convert 200 minutes to hours by dividing by 60.\n",
    "200/60"
   ]
  },
  {
   "cell_type": "markdown",
   "id": "55bb0e57-2af4-4f6f-8746-5700e067c917",
   "metadata": {},
   "source": [
    "## Author\n",
    "Andrew Heck"
   ]
  },
  {
   "cell_type": "code",
   "execution_count": null,
   "id": "03b0836c-8ba6-479a-8d91-6c4b71c89235",
   "metadata": {},
   "outputs": [],
   "source": []
  }
 ],
 "metadata": {
  "kernelspec": {
   "display_name": "Python 3 (ipykernel)",
   "language": "python",
   "name": "python3"
  },
  "language_info": {
   "codemirror_mode": {
    "name": "ipython",
    "version": 3
   },
   "file_extension": ".py",
   "mimetype": "text/x-python",
   "name": "python",
   "nbconvert_exporter": "python",
   "pygments_lexer": "ipython3",
   "version": "3.12.7"
  }
 },
 "nbformat": 4,
 "nbformat_minor": 5
}
